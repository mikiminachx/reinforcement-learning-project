{
 "cells": [
  {
   "cell_type": "code",
   "execution_count": null,
   "id": "0b651f9a-c830-43a5-b43b-f2abbd42d05f",
   "metadata": {},
   "outputs": [],
   "source": [
    "import tensorflow as tf\n",
    "import numpy as np\n",
    "import pandas as pd\n",
    "\n",
    "# Read the Excel sheet (Replace with your data loading logic)\n",
    "df = pd.read_excel('EmotionsIGTData.xlsx')\n",
    "\n",
    "# Scale IGT scores and Total Money to the range [0, 1]\n",
    "scaler = MinMaxScaler()\n",
    "df[['IGT_NET_Raw', 'IGT_NET_1Raw', 'IGT_NET_2Raw', 'IGT_NET_3Raw', 'IGT_NET_4Raw', 'IGT_NET_5Raw', 'Deck_A_Raw', 'Deck_B_Raw', 'Deck_C_Raw', 'Deck_D_Raw', 'Total_Money']] = scaler.fit_transform(df[['IGT_NET_Raw', 'IGT_NET_1Raw', 'IGT_NET_2Raw', 'IGT_NET_3Raw', 'IGT_NET_4Raw', 'IGT_NET_5Raw', 'Deck_A_Raw', 'Deck_B_Raw', 'Deck_C_Raw', 'Deck_D_Raw', 'Total_Money']])\n",
    "\n",
    "# Load the fine-tuned model (Replace with your model loading logic)\n",
    "fine_tuned_model = tf.keras.models.load_model('fine_tuned_model.h5')\n",
    "\n",
    "# Evaluate the fine-tuned agent\n",
    "num_episodes = 10  # Number of episodes for evaluation\n",
    "total_rewards = []\n",
    "\n",
    "for episode in range(num_episodes):\n",
    "    state = env.reset()  # Reuse the previously defined environment\n",
    "    total_reward = 0\n",
    "\n",
    "    while True:\n",
    "        action = fine_tuned_model.select_action(state)\n",
    "        next_state, reward, done = env.step(action)\n",
    "\n",
    "        total_reward += reward\n",
    "\n",
    "        if done:\n",
    "            break\n",
    "\n",
    "        state = next_state\n",
    "\n",
    "    total_rewards.append(total_reward)\n",
    "\n",
    "# Calculate and print the average reward\n",
    "average_reward = np.mean(total_rewards)\n",
    "print(f'Average Reward over {num_episodes} episodes: {average_reward}')"
   ]
  }
 ],
 "metadata": {
  "kernelspec": {
   "display_name": "",
   "name": ""
  },
  "language_info": {
   "name": ""
  }
 },
 "nbformat": 4,
 "nbformat_minor": 5
}
